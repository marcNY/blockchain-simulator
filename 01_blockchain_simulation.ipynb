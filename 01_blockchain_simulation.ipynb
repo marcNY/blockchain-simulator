{
 "cells": [
  {
   "cell_type": "code",
   "execution_count": 1,
   "metadata": {},
   "outputs": [
    {
     "name": "stdout",
     "output_type": "stream",
     "text": [
      "Hello\n"
     ]
    }
   ],
   "source": [
    "print(\"Hello\")"
   ]
  },
  {
   "cell_type": "markdown",
   "metadata": {},
   "source": [
    "# Simulating a simple blockchain network"
   ]
  },
  {
   "cell_type": "code",
   "execution_count": 3,
   "metadata": {},
   "outputs": [
    {
     "name": "stdout",
     "output_type": "stream",
     "text": [
      "Time 2.9858719896031345: Node 0 mined Block_1_Node_0\n",
      "Time 3.635275154094063: Node 2 mined Block_1_Node_2\n",
      "Time 5.115491741836481: Node 1 mined Block_1_Node_1\n",
      "Time 7.855701914796832: Node 1 mined Block_2_Node_1\n",
      "Time 12.373614882269813: Node 2 mined Block_2_Node_2\n",
      "Time 12.656754712674047: Node 1 mined Block_3_Node_1\n",
      "Time 14.753901353126986: Node 3 mined Block_1_Node_3\n",
      "Time 15.007666648602532: Node 3 mined Block_2_Node_3\n",
      "Time 17.781780213868597: Node 0 mined Block_2_Node_0\n",
      "Time 18.277657767463214: Node 3 mined Block_3_Node_3\n",
      "Time 23.532083676787764: Node 2 mined Block_3_Node_2\n",
      "Time 29.194775138419708: Node 4 mined Block_1_Node_4\n",
      "Time 29.70772963897659: Node 0 mined Block_3_Node_0\n",
      "Time 44.06979347421724: Node 1 mined Block_4_Node_1\n",
      "Time 44.807518763449806: Node 2 mined Block_4_Node_2\n",
      "Time 45.88963494640153: Node 1 mined Block_5_Node_1\n",
      "Time 48.67402288411876: Node 2 mined Block_5_Node_2\n",
      "Time 49.34200701698548: Node 0 mined Block_4_Node_0\n",
      "Time 49.787597916580985: Node 3 mined Block_4_Node_3\n",
      "Time 50.67957667971263: Node 0 mined Block_5_Node_0\n",
      "Time 53.50929738093839: Node 4 mined Block_2_Node_4\n",
      "Time 54.31619498831323: Node 2 mined Block_6_Node_2\n",
      "Time 55.124138327997: Node 1 mined Block_6_Node_1\n",
      "Time 56.55135867897992: Node 0 mined Block_6_Node_0\n",
      "Time 57.13935437486857: Node 0 mined Block_7_Node_0\n",
      "Time 59.34929313250647: Node 1 mined Block_7_Node_1\n",
      "Time 60.281722792469445: Node 3 mined Block_5_Node_3\n",
      "Time 60.37615904753921: Node 1 mined Block_8_Node_1\n",
      "Time 61.26372555660784: Node 3 mined Block_6_Node_3\n",
      "Time 61.40616777695093: Node 0 mined Block_8_Node_0\n",
      "Time 63.48743848670069: Node 1 mined Block_9_Node_1\n",
      "Time 63.77289764995499: Node 3 mined Block_7_Node_3\n",
      "Time 65.60166489457215: Node 3 mined Block_8_Node_3\n",
      "Time 67.45799205925417: Node 3 mined Block_9_Node_3\n",
      "Time 68.61383930018744: Node 0 mined Block_9_Node_0\n",
      "Time 68.75662848228447: Node 4 mined Block_3_Node_4\n",
      "Time 68.89424670500605: Node 2 mined Block_7_Node_2\n",
      "Time 73.04789086774005: Node 2 mined Block_8_Node_2\n",
      "Time 79.06918928461508: Node 4 mined Block_4_Node_4\n",
      "Time 79.14337188053932: Node 2 mined Block_9_Node_2\n",
      "Time 82.33212283223509: Node 3 mined Block_10_Node_3\n",
      "Time 82.72791872459204: Node 4 mined Block_5_Node_4\n",
      "Time 84.61718228661752: Node 4 mined Block_6_Node_4\n",
      "Time 88.09842473946892: Node 4 mined Block_7_Node_4\n",
      "Time 92.95437012316651: Node 1 mined Block_10_Node_1\n",
      "Time 94.07303101335583: Node 1 mined Block_11_Node_1\n",
      "Time 96.54594282155105: Node 1 mined Block_12_Node_1\n",
      "Time 98.12835286059683: Node 2 mined Block_10_Node_2\n",
      "Time 99.8896820026902: Node 3 mined Block_11_Node_3\n"
     ]
    }
   ],
   "source": [
    "\n",
    "import simpy\n",
    "import numpy as np\n",
    "import pandas as pd\n",
    "import matplotlib.pyplot as plt\n",
    "from igraph import Graph\n",
    "\n",
    "\n",
    "# Define the Simulation Environment\n",
    "env = simpy.Environment()\n",
    "\n",
    "\n",
    "# Create Blockchain node class:\n",
    "class Node:\n",
    "    def __init__(self, env, node_id):\n",
    "        self.env = env\n",
    "        self.node_id = node_id\n",
    "        self.chain = []\n",
    "        self.action = env.process(self.run())\n",
    "\n",
    "    def run(self):\n",
    "        while True:\n",
    "            # Simulate block creation time\n",
    "            yield self.env.timeout(np.random.exponential(10))\n",
    "            block = f\"Block_{len(self.chain)+1}_Node_{self.node_id}\"\n",
    "            self.chain.append(block)\n",
    "            print(f\"Time {self.env.now}: Node {self.node_id} mined {block}\")\n",
    "\n",
    "# initialize node\n",
    "num_nodes = 5\n",
    "nodes = [Node(env, i) for i in range(num_nodes)]\n",
    "\n",
    "# run the simulation\n",
    "simulation_time = 100\n",
    "env.run(until=simulation_time)"
   ]
  },
  {
   "cell_type": "code",
   "execution_count": 7,
   "metadata": {},
   "outputs": [
    {
     "ename": "ValueError",
     "evalue": "until (100) must be greater than the current simulation time",
     "output_type": "error",
     "traceback": [
      "\u001b[0;31m---------------------------------------------------------------------------\u001b[0m",
      "\u001b[0;31mValueError\u001b[0m                                Traceback (most recent call last)",
      "Cell \u001b[0;32mIn[7], line 27\u001b[0m\n\u001b[1;32m     24\u001b[0m nodes \u001b[38;5;241m=\u001b[39m [Node(env, i, state_data) \u001b[38;5;28;01mfor\u001b[39;00m i \u001b[38;5;129;01min\u001b[39;00m \u001b[38;5;28mrange\u001b[39m(num_nodes)]\n\u001b[1;32m     26\u001b[0m simulation_time \u001b[38;5;241m=\u001b[39m \u001b[38;5;241m100\u001b[39m\n\u001b[0;32m---> 27\u001b[0m \u001b[43menv\u001b[49m\u001b[38;5;241;43m.\u001b[39;49m\u001b[43mrun\u001b[49m\u001b[43m(\u001b[49m\u001b[43muntil\u001b[49m\u001b[38;5;241;43m=\u001b[39;49m\u001b[43msimulation_time\u001b[49m\u001b[43m)\u001b[49m\n\u001b[1;32m     28\u001b[0m state_df \u001b[38;5;241m=\u001b[39m pd\u001b[38;5;241m.\u001b[39mDataFrame(state_data)\n",
      "File \u001b[0;32m~/Library/Caches/pypoetry/virtualenvs/blockchain-simulator-dNffGhbB-py3.13/lib/python3.13/site-packages/simpy/core.py:228\u001b[0m, in \u001b[0;36mEnvironment.run\u001b[0;34m(self, until)\u001b[0m\n\u001b[1;32m    225\u001b[0m at: SimTime \u001b[38;5;241m=\u001b[39m until \u001b[38;5;28;01mif\u001b[39;00m \u001b[38;5;28misinstance\u001b[39m(until, \u001b[38;5;28mint\u001b[39m) \u001b[38;5;28;01melse\u001b[39;00m \u001b[38;5;28mfloat\u001b[39m(until)\n\u001b[1;32m    227\u001b[0m \u001b[38;5;28;01mif\u001b[39;00m at \u001b[38;5;241m<\u001b[39m\u001b[38;5;241m=\u001b[39m \u001b[38;5;28mself\u001b[39m\u001b[38;5;241m.\u001b[39mnow:\n\u001b[0;32m--> 228\u001b[0m     \u001b[38;5;28;01mraise\u001b[39;00m \u001b[38;5;167;01mValueError\u001b[39;00m(\n\u001b[1;32m    229\u001b[0m         \u001b[38;5;124mf\u001b[39m\u001b[38;5;124m'\u001b[39m\u001b[38;5;124muntil (\u001b[39m\u001b[38;5;132;01m{\u001b[39;00mat\u001b[38;5;132;01m}\u001b[39;00m\u001b[38;5;124m) must be greater than the current simulation time\u001b[39m\u001b[38;5;124m'\u001b[39m\n\u001b[1;32m    230\u001b[0m     )\n\u001b[1;32m    232\u001b[0m \u001b[38;5;66;03m# Schedule the event before all regular timeouts.\u001b[39;00m\n\u001b[1;32m    233\u001b[0m until \u001b[38;5;241m=\u001b[39m Event(\u001b[38;5;28mself\u001b[39m)\n",
      "\u001b[0;31mValueError\u001b[0m: until (100) must be greater than the current simulation time"
     ]
    }
   ],
   "source": [
    "class Node:\n",
    "    def __init__(self, env, node_id, state_data):\n",
    "        self.env = env\n",
    "        self.node_id = node_id\n",
    "        self.chain = []\n",
    "        self.state_data = state_data\n",
    "        self.action = env.process(self.run())\n",
    "\n",
    "    def run(self):\n",
    "        while True:\n",
    "            yield self.env.timeout(np.random.exponential(10))\n",
    "            block = f\"Block_{len(self.chain)+1}_Node_{self.node_id}\"\n",
    "            self.chain.append(block)\n",
    "            # Record state\n",
    "            self.state_data.append({\n",
    "                'time': self.env.now,\n",
    "                'node_id': self.node_id,\n",
    "                'chain_length': len(self.chain)\n",
    "            })\n",
    "            print(f\"Time {self.env.now}: Node {self.node_id} mined {block}\")\n",
    "\n",
    "\n",
    "state_data = []\n",
    "nodes = [Node(env, i, state_data) for i in range(num_nodes)]\n",
    "\n",
    "simulation_time = 100\n",
    "env.run(until=simulation_time)\n",
    "state_df = pd.DataFrame(state_data)\n",
    "\n"
   ]
  },
  {
   "cell_type": "code",
   "execution_count": null,
   "metadata": {},
   "outputs": [],
   "source": []
  }
 ],
 "metadata": {
  "kernelspec": {
   "display_name": "blockchain-simulator-dNffGhbB-py3.13",
   "language": "python",
   "name": "python3"
  },
  "language_info": {
   "codemirror_mode": {
    "name": "ipython",
    "version": 3
   },
   "file_extension": ".py",
   "mimetype": "text/x-python",
   "name": "python",
   "nbconvert_exporter": "python",
   "pygments_lexer": "ipython3",
   "version": "3.13.0"
  }
 },
 "nbformat": 4,
 "nbformat_minor": 2
}
